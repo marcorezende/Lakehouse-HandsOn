{
 "cells": [
  {
   "cell_type": "code",
   "execution_count": null,
   "id": "f52dd2a6-5f49-42b9-9b61-34c125e1bf0e",
   "metadata": {},
   "outputs": [],
   "source": [
    "from pyspark.sql import SparkSession\n",
    "\n",
    "# Inicializa uma sessão Spark\n",
    "spark = SparkSession.builder.appName(\"CidadesNorte\").getOrCreate()\n",
    "\n"
   ]
  },
  {
   "cell_type": "code",
   "execution_count": null,
   "id": "4d00670d-2e9e-4988-8f6a-281d9d75cbd3",
   "metadata": {},
   "outputs": [],
   "source": [
    "# Lista de cidades do Norte do Brasil e o número de habitantes\n",
    "dados = [\n",
    "    (\"Manaus\", 2219580),\n",
    "    (\"Belém\", 1492745),\n",
    "    (\"Porto Velho\", 529544),\n",
    "    (\"Boa Vista\", 419652),\n",
    "    (\"Palmas\", 306296),\n",
    "    (\"Rio Branco\", 413418),\n",
    "    (\"Macapá\", 503327),\n",
    "    (\"Santarém\", 294447),\n",
    "]\n",
    "\n",
    "# Define o schema para o DataFrame\n",
    "schema = [\"Cidade\", \"Habitantes\"]\n",
    "\n",
    "# Cria o DataFrame\n",
    "df = spark.createDataFrame(dados, schema)\n",
    "\n",
    "# Mostra o DataFrame\n",
    "df.show()"
   ]
  },
  {
   "cell_type": "code",
   "execution_count": null,
   "id": "263f5073-aa36-4c2c-ae7b-7886181225a4",
   "metadata": {},
   "outputs": [],
   "source": [
    "#Criando nossa primeira tabela delta\n",
    "df.write.format(\"delta\").save(\"s3a://lakehouse-demo/cidades_norte\")"
   ]
  },
  {
   "cell_type": "code",
   "execution_count": null,
   "id": "fc51cf41-2877-436f-a6cb-22450a04cce4",
   "metadata": {},
   "outputs": [],
   "source": [
    "#Optimizando a tabela\n",
    "from delta import DeltaTable\n",
    "\n",
    "delta_table = DeltaTable.forPath(spark, \"s3a://lakehouse-demo/cidades_norte\")\n",
    "delta_table.optimize().executeCompaction()"
   ]
  },
  {
   "cell_type": "code",
   "execution_count": null,
   "id": "1fa11708-3e76-4a2d-8af2-13b4bca2ee2f",
   "metadata": {},
   "outputs": [],
   "source": [
    "#Versionamento\n",
    "delta_table.history().show()"
   ]
  },
  {
   "cell_type": "code",
   "execution_count": null,
   "id": "3ea791d2-0fd6-49e4-953c-9344782afe11",
   "metadata": {},
   "outputs": [],
   "source": [
    "#Vacuum\n",
    "\n",
    "delta_table.vacuum(0)"
   ]
  },
  {
   "cell_type": "code",
   "execution_count": null,
   "id": "af5eb358-7a39-4ac6-a89c-a139b75f2e41",
   "metadata": {},
   "outputs": [],
   "source": [
    "spark = SparkSession.builder.appName(\"CidadesNorte\")\\\n",
    "                             .config(\"spark.databricks.delta.retentionDurationCheck.enabled\", \"false\")\\\n",
    "                             .getOrCreate()"
   ]
  },
  {
   "cell_type": "code",
   "execution_count": null,
   "id": "bf520832-3bc3-42b3-ab62-defc849a14f3",
   "metadata": {},
   "outputs": [],
   "source": [
    "\n",
    "#Vacuum\n",
    "delta_table.vacuum(0)"
   ]
  },
  {
   "cell_type": "code",
   "execution_count": null,
   "id": "6c047604-ac55-45fb-92cb-d688023798d6",
   "metadata": {},
   "outputs": [],
   "source": []
  }
 ],
 "metadata": {
  "kernelspec": {
   "display_name": "Python 3 (ipykernel)",
   "language": "python",
   "name": "python3"
  },
  "language_info": {
   "codemirror_mode": {
    "name": "ipython",
    "version": 3
   },
   "file_extension": ".py",
   "mimetype": "text/x-python",
   "name": "python",
   "nbconvert_exporter": "python",
   "pygments_lexer": "ipython3",
   "version": "3.10.6"
  }
 },
 "nbformat": 4,
 "nbformat_minor": 5
}
