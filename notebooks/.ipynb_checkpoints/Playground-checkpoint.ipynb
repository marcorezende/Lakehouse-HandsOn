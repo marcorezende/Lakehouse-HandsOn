{
 "cells": [
  {
   "cell_type": "code",
   "execution_count": 60,
   "id": "d466882d-8abb-404a-8e1b-a002046bfcb7",
   "metadata": {},
   "outputs": [
    {
     "name": "stdout",
     "output_type": "stream",
     "text": [
      "+-------------------+-------+\n",
      "|        Player Name|MatchID|\n",
      "+-------------------+-------+\n",
      "|               JOEL|   1093|\n",
      "|           TEOPHILO|   1093|\n",
      "|               POLY|   1093|\n",
      "|             FAUSTO|   1093|\n",
      "|          PREGUINHO|   1093|\n",
      "|               NILO|   1093|\n",
      "|          BRILHANTE|   1093|\n",
      "|             ARAKEN|   1093|\n",
      "|         HERMOGENES|   1093|\n",
      "|             ITALIA|   1093|\n",
      "|FERNANDO GIUDICELLI|   1093|\n",
      "|     CARVALHO LEITE|   1093|\n",
      "|          BENEDICTO|   1093|\n",
      "|           OSCARINO|   1093|\n",
      "|         BENVENUTTO|   1093|\n",
      "|               DOCA|   1093|\n",
      "|           PAMPLONA|   1093|\n",
      "|             FORTES|   1093|\n",
      "|        MANOELZINHO|   1093|\n",
      "|         IVAN MARIZ|   1093|\n",
      "+-------------------+-------+\n",
      "only showing top 20 rows\n",
      "\n"
     ]
    }
   ],
   "source": [
    "from pyspark.sql import SparkSession\n",
    "from pyspark.sql.functions import col, isnull\n",
    "spark = SparkSession.builder.getOrCreate()\n",
    "\n",
    "df_players = spark.read.option(\"header\",\"true\").csv('./data/WorldCupPlayers.csv')\n",
    "df_players = df_players.filter(col('Team Initials') == 'BRA').select('Player Name', 'MatchID')\n",
    "df_players.show()\n",
    "df_players.write.format('csv').save('./teste.csv')"
   ]
  },
  {
   "cell_type": "code",
   "execution_count": null,
   "id": "af2e37fc-2efd-423b-a300-94b057205acf",
   "metadata": {},
   "outputs": [],
   "source": []
  }
 ],
 "metadata": {
  "kernelspec": {
   "display_name": "Python 3 (ipykernel)",
   "language": "python",
   "name": "python3"
  },
  "language_info": {
   "codemirror_mode": {
    "name": "ipython",
    "version": 3
   },
   "file_extension": ".py",
   "mimetype": "text/x-python",
   "name": "python",
   "nbconvert_exporter": "python",
   "pygments_lexer": "ipython3",
   "version": "3.10.6"
  }
 },
 "nbformat": 4,
 "nbformat_minor": 5
}
