{
 "cells": [
  {
   "cell_type": "code",
   "execution_count": 3,
   "id": "06670764-a1fe-41ba-b50d-9113e6c5acf5",
   "metadata": {},
   "outputs": [
    {
     "name": "stdout",
     "output_type": "stream",
     "text": [
      "0.8739902973175049\n"
     ]
    }
   ],
   "source": [
    "from pyspark.sql import SparkSession\n",
    "from pyspark.sql.functions import col, to_date\n",
    "import time\n",
    "spark = SparkSession.builder.getOrCreate()\n",
    "\n",
    "schema_local_system = 'id STRING, first_name STRING, last_name STRING, email STRING, gender STRING, age INT, plan STRING, enrollment_in STRING'\n",
    "df_gympass_customer = spark.read.option(\"header\",\"true\").csv('./data/fpfgym/gympass_customer.csv')\n",
    "df_gympass_customer.write.format('delta').save('s3a://datalake-poslabs/bronze/gympass_customer')\n",
    "s = time.time()\n",
    "df_local_system_customer = spark.read.option(\"header\",\"true\").schema(schema_local_system).csv('./data/fpfgym/local_system_customer.csv')\n",
    "df_local_system_customer.write.format('delta').save('s3a://datalake-poslabs/bronze/local_system_customer')\n",
    "e = time.time()\n",
    "print(e-s)"
   ]
  },
  {
   "cell_type": "code",
   "execution_count": null,
   "id": "d30462e7-0f14-4fdf-9291-33c418358692",
   "metadata": {},
   "outputs": [],
   "source": [
    "from pyspark.sql import SparkSession\n",
    "from pyspark.sql.functions import col, to_date, date_format, when, lit, broadcast, monotonically_increasing_id\n",
    "\n",
    "spark = SparkSession.builder.getOrCreate()\n",
    "df_customer_gympass = spark.read.format(\"delta\").load('s3a://datalake-poslabs/bronze/gympass_customer')\n",
    "df_plans = df_customer_gympass.select(col('plano').alias('plano_nome')).distinct()\n",
    "df_plans = df_plans.withColumn('id_plano', monotonically_increasing_id()+1)\n",
    "df_plans.write.format('delta').save('s3a://datalake-poslabs/silver/plans')"
   ]
  },
  {
   "cell_type": "code",
   "execution_count": 79,
   "id": "60b6dfa2-7f1e-4e15-a9c0-aa8671b18e68",
   "metadata": {},
   "outputs": [
    {
     "name": "stdout",
     "output_type": "stream",
     "text": [
      "2000\n"
     ]
    }
   ],
   "source": [
    "from pyspark.sql import SparkSession\n",
    "from pyspark.sql.functions import col, to_date, date_format, when, lit, broadcast, monotonically_increasing_id, lit\n",
    "spark = SparkSession.builder.getOrCreate()\n",
    "df_plans = spark.read.format(\"delta\").load('s3a://datalake-poslabs/silver/plans')\n",
    "df_customer_gympass = spark.read.format(\"delta\").load('s3a://datalake-poslabs/bronze/gympass_customer')\n",
    "df_local_system_customer = spark.read.format(\"delta\").load('s3a://datalake-poslabs/bronze/local_system_customer')\n",
    "df_local_system_customer = df_local_system_customer\\\n",
    "                           .withColumnRenamed('first_name', 'nome')\\\n",
    "                           .withColumnRenamed('last_name', 'sobrenome')\\\n",
    "                           .withColumnRenamed('gender', 'genero')\\\n",
    "                           .withColumnRenamed('age', 'idade')\\\n",
    "                           .withColumnRenamed('enrollment_in', 'matriculado_em')\\\n",
    "                           .withColumnRenamed('plan', 'plano')\n",
    "\n",
    "df_local_system_customer = df_local_system_customer\\\n",
    "                           .withColumn('telefone', lit('Não definido'))\\\n",
    "                           .withColumn('endereco', lit('Não definido'))\n",
    "\n",
    "df_local_system_customer = df_local_system_customer.withColumn('fonte', lit('sistema_local'))\n",
    "df_customer_gympass = df_customer_gympass.withColumn('fonte', lit('gympass'))\n",
    "\n",
    "df_union = df_local_system_customer.unionByName(df_customer_gympass)\n",
    "df_union = df_union.withColumn('matriculado_em', to_date(col('matriculado_em'), 'M/d/yyyy').cast('date'))\n",
    "df_union = df_union.withColumn('email', when(df_union.email.rlike(r'([A-Za-z0-9]+[.-_])*[A-Za-z0-9]+@[A-Za-z0-9-]+(\\.[A-Z|a-z]{2,})+'), col('email')).otherwise(lit('Não definido')))\n",
    "df_plans = spark.read.format(\"delta\").load('s3a://datalake-poslabs/silver/plans')\n",
    "df_union = df_union.join(broadcast(df_plans), df_union['plano'] == df_plans['plano_nome'], 'inner')\n",
    "df_union = df_union.drop('plano_nome', 'plano')\n",
    "df_union.write.format('delta').save('s3a://datalake-poslabs/silver/customer')\n",
    "print(df_union.count())"
   ]
  },
  {
   "cell_type": "code",
   "execution_count": 80,
   "id": "6ff0625a-c84e-4033-a409-aac96c7544b2",
   "metadata": {},
   "outputs": [
    {
     "name": "stdout",
     "output_type": "stream",
     "text": [
      "+----------+--------+----------+--------------------+-----------+-----+--------------+----------+--------------------+-------+--------+\n",
      "|        id|    nome| sobrenome|               email|     genero|idade|matriculado_em|  telefone|            endereco|  fonte|id_plano|\n",
      "+----------+--------+----------+--------------------+-----------+-----+--------------+----------+--------------------+-------+--------+\n",
      "|80-5437854|  Lenard|    Pobjay|        Não definido|       Male|   24|    2022-02-14|3176236246| 2 Mockingbird Point|gympass|       2|\n",
      "|77-0899770|  Cherri|     Sames|      csames1@hp.com|     Female|   15|    2022-04-04|4048434801|  73 Butternut Drive|gympass|       2|\n",
      "|05-7286357| Cheston|    Keeler|ckeeler2@t-online.de|       Male|   81|    2022-06-19|9007954668|    71506 Boyd Plaza|gympass|       1|\n",
      "|01-3984300|    Moll|   Merrill|mmerrill3@shareas...|     Female|   30|    2022-11-05|8888324782|                null|gympass|       2|\n",
      "|96-1408728|   Cindi|     Dunne|   cdunne4@globo.com|     Female|   51|    2021-04-01|4079831503|87027 Browning Court|gympass|       2|\n",
      "|14-4792073|   Mommy|   Murfett|mmurfett5@dailymo...|Genderqueer|   20|    2022-07-09|2462744544|129 Kingsford Circle|gympass|       3|\n",
      "|95-9568346|  Tobias|   Hancorn|thancorn6@comcast...|       Male|   27|    2022-09-24|4094010385|    179 Talisman Way|gympass|       1|\n",
      "|17-1204237|   Selig| Rittmeier|srittmeier7@reddi...|       Male|   58|    2021-09-12|2164877922|872 Mockingbird C...|gympass|       3|\n",
      "|27-5823995| Roberto|MacCoveney|rmaccoveney8@coms...|       Male|   58|    2022-01-08|4366597087|                null|gympass|       3|\n",
      "|04-0675057|  Hughie|  Roullier|hroullier9@huffin...|       Male|   70|    2021-06-06|5624715989|                null|gympass|       2|\n",
      "|72-5353068|   Dania|    Adaway|    dadawaya@nps.gov|     Female|    3|    2021-05-13|8792101541|        8 Moose Road|gympass|       3|\n",
      "|16-2881567|   Yancy|     Shory|yshoryb@networkso...|       Male|   84|    2022-02-12|4558501864| 44178 Sundown Plaza|gympass|       1|\n",
      "|73-5261287|Christan|    Cluatt| ccluattc@drupal.org| Polygender|   66|    2022-03-20|4879567078|71907 Lakewood Ce...|gympass|       3|\n",
      "|17-4974388| Gaylord|   Munnery| gmunneryd@wufoo.com|       Male|   26|    2023-06-10|3589347373| 10956 Schiller Lane|gympass|       3|\n",
      "|74-0296513|  Beilul| Grzegorek|bgrzegoreke@netlo...|     Female|   55|    2022-11-03|2555427675|                null|gympass|       1|\n",
      "|29-4880541|    Abbe|   Decruse|adecrusef@microso...|     Female|    3|    2022-03-14|7202543249|     1 Granby Avenue|gympass|       3|\n",
      "|84-6532502|  Martin|   Caillou|mcailloug@theatla...|       Male|   21|    2022-12-29|4487998501|   167 Ridge Oak Way|gympass|       2|\n",
      "|06-0394527| Zebulen|    Begley|   zbegleyh@cnbc.com|       Male|   88|    2023-05-11|6777447098|    42171 Susan Road|gympass|       2|\n",
      "|32-5920411| Kalindi|   Kelling| kkellingi@google.it|     Female|   52|    2022-08-28|4653034481|  512 Saint Paul Way|gympass|       1|\n",
      "|11-8105306|    Lowe|   Rubinow|lrubinowj@amazon....|       Male|   99|    2023-06-25|6294511887|   82252 Oxford Park|gympass|       1|\n",
      "+----------+--------+----------+--------------------+-----------+-----+--------------+----------+--------------------+-------+--------+\n",
      "only showing top 20 rows\n",
      "\n",
      "+----+-----+---------+\n",
      "|year|month|count(id)|\n",
      "+----+-----+---------+\n",
      "|2021|    3|       54|\n",
      "|2021|    4|       68|\n",
      "|2021|    5|       66|\n",
      "|2021|    6|       54|\n",
      "|2021|    7|       76|\n",
      "|2021|    8|       77|\n",
      "|2021|    9|       64|\n",
      "|2021|   10|       82|\n",
      "|2021|   11|       68|\n",
      "|2021|   12|       74|\n",
      "|2022|    1|       75|\n",
      "|2022|    2|       76|\n",
      "|2022|    3|       69|\n",
      "|2022|    4|       62|\n",
      "|2022|    5|       64|\n",
      "|2022|    6|       80|\n",
      "|2022|    7|       67|\n",
      "|2022|    8|       78|\n",
      "|2022|    9|       90|\n",
      "|2022|   10|       81|\n",
      "+----+-----+---------+\n",
      "only showing top 20 rows\n",
      "\n"
     ]
    }
   ],
   "source": [
    "from pyspark.sql import SparkSession\n",
    "from pyspark.sql.functions import col, to_date, date_format, when, lit, broadcast, monotonically_increasing_id, month, year\n",
    "\n",
    "spark = SparkSession.builder.getOrCreate()\n",
    "df_customer_silver = spark.read.format(\"delta\").load('s3a://datalake-poslabs/silver/customer')\n",
    "\n",
    "df_customer_silver = df_customer_silver.withColumn('matriculado_em', to_date(col('matriculado_em'), 'M/d/yyyy').cast('date'))\n",
    "df_customer_silver.show()\n",
    "df_customer_silver = df_customer_silver.groupBy(year(col('matriculado_em')).alias('year'), month(col('matriculado_em')).alias('month')).agg({'id': 'count'})\n",
    "df_customer_silver = df_customer_silver.orderBy('year', 'month')\n",
    "df_customer_silver.show()"
   ]
  },
  {
   "cell_type": "code",
   "execution_count": 81,
   "id": "9fdae4f7-d74a-4da1-8e22-0063e507046f",
   "metadata": {},
   "outputs": [
    {
     "name": "stdout",
     "output_type": "stream",
     "text": [
      "+----------+--------+----------+--------------------+-----------+-----+--------------+----------+--------------------+-------+--------+\n",
      "|        id|    nome| sobrenome|               email|     genero|idade|matriculado_em|  telefone|            endereco|  fonte|id_plano|\n",
      "+----------+--------+----------+--------------------+-----------+-----+--------------+----------+--------------------+-------+--------+\n",
      "|80-5437854|  Lenard|    Pobjay|        Não definido|       Male|   24|    2022-02-14|3176236246| 2 Mockingbird Point|gympass|       2|\n",
      "|77-0899770|  Cherri|     Sames|      csames1@hp.com|     Female|   15|    2022-04-04|4048434801|  73 Butternut Drive|gympass|       2|\n",
      "|05-7286357| Cheston|    Keeler|ckeeler2@t-online.de|       Male|   81|    2022-06-19|9007954668|    71506 Boyd Plaza|gympass|       1|\n",
      "|01-3984300|    Moll|   Merrill|mmerrill3@shareas...|     Female|   30|    2022-11-05|8888324782|                null|gympass|       2|\n",
      "|96-1408728|   Cindi|     Dunne|   cdunne4@globo.com|     Female|   51|    2021-04-01|4079831503|87027 Browning Court|gympass|       2|\n",
      "|14-4792073|   Mommy|   Murfett|mmurfett5@dailymo...|Genderqueer|   20|    2022-07-09|2462744544|129 Kingsford Circle|gympass|       3|\n",
      "|95-9568346|  Tobias|   Hancorn|thancorn6@comcast...|       Male|   27|    2022-09-24|4094010385|    179 Talisman Way|gympass|       1|\n",
      "|17-1204237|   Selig| Rittmeier|srittmeier7@reddi...|       Male|   58|    2021-09-12|2164877922|872 Mockingbird C...|gympass|       3|\n",
      "|27-5823995| Roberto|MacCoveney|rmaccoveney8@coms...|       Male|   58|    2022-01-08|4366597087|                null|gympass|       3|\n",
      "|04-0675057|  Hughie|  Roullier|hroullier9@huffin...|       Male|   70|    2021-06-06|5624715989|                null|gympass|       2|\n",
      "|72-5353068|   Dania|    Adaway|    dadawaya@nps.gov|     Female|    3|    2021-05-13|8792101541|        8 Moose Road|gympass|       3|\n",
      "|16-2881567|   Yancy|     Shory|yshoryb@networkso...|       Male|   84|    2022-02-12|4558501864| 44178 Sundown Plaza|gympass|       1|\n",
      "|73-5261287|Christan|    Cluatt| ccluattc@drupal.org| Polygender|   66|    2022-03-20|4879567078|71907 Lakewood Ce...|gympass|       3|\n",
      "|17-4974388| Gaylord|   Munnery| gmunneryd@wufoo.com|       Male|   26|    2023-06-10|3589347373| 10956 Schiller Lane|gympass|       3|\n",
      "|74-0296513|  Beilul| Grzegorek|bgrzegoreke@netlo...|     Female|   55|    2022-11-03|2555427675|                null|gympass|       1|\n",
      "|29-4880541|    Abbe|   Decruse|adecrusef@microso...|     Female|    3|    2022-03-14|7202543249|     1 Granby Avenue|gympass|       3|\n",
      "|84-6532502|  Martin|   Caillou|mcailloug@theatla...|       Male|   21|    2022-12-29|4487998501|   167 Ridge Oak Way|gympass|       2|\n",
      "|06-0394527| Zebulen|    Begley|   zbegleyh@cnbc.com|       Male|   88|    2023-05-11|6777447098|    42171 Susan Road|gympass|       2|\n",
      "|32-5920411| Kalindi|   Kelling| kkellingi@google.it|     Female|   52|    2022-08-28|4653034481|  512 Saint Paul Way|gympass|       1|\n",
      "|11-8105306|    Lowe|   Rubinow|lrubinowj@amazon....|       Male|   99|    2023-06-25|6294511887|   82252 Oxford Park|gympass|       1|\n",
      "+----------+--------+----------+--------------------+-----------+-----+--------------+----------+--------------------+-------+--------+\n",
      "only showing top 20 rows\n",
      "\n",
      "+-------------+---------+\n",
      "|        fonte|count(id)|\n",
      "+-------------+---------+\n",
      "|      gympass|     1000|\n",
      "|sistema_local|     1000|\n",
      "+-------------+---------+\n",
      "\n"
     ]
    }
   ],
   "source": [
    "from pyspark.sql import SparkSession\n",
    "from pyspark.sql.functions import col, to_date, date_format, when, lit, broadcast, monotonically_increasing_id\n",
    "\n",
    "spark = SparkSession.builder.getOrCreate()\n",
    "df_customer_silver = spark.read.format(\"delta\").load('s3a://datalake-poslabs/silver/customer')\n",
    "\n",
    "df_customer_silver = df_customer_silver.withColumn('matriculado_em', to_date(col('matriculado_em'), 'M/d/yyyy').cast('date'))\n",
    "df_customer_silver = df_customer_silver.groupBy(col('fonte')).agg({'id': 'count'})\n",
    "df_customer_silver.show()"
   ]
  },
  {
   "cell_type": "code",
   "execution_count": 82,
   "id": "c903bb78-f8fe-4750-9800-725d0e1915f9",
   "metadata": {},
   "outputs": [
    {
     "ename": "TypeError",
     "evalue": "unsupported operand type(s) for //: 'Column' and 'int'",
     "output_type": "error",
     "traceback": [
      "\u001b[0;31m---------------------------------------------------------------------------\u001b[0m",
      "\u001b[0;31mTypeError\u001b[0m                                 Traceback (most recent call last)",
      "Cell \u001b[0;32mIn [82], line 12\u001b[0m\n\u001b[1;32m      9\u001b[0m age_step \u001b[38;5;241m=\u001b[39m \u001b[38;5;241m10\u001b[39m\n\u001b[1;32m     11\u001b[0m \u001b[38;5;66;03m# Crie uma expressão para calcular a faixa de idade correspondente\u001b[39;00m\n\u001b[0;32m---> 12\u001b[0m age_group_expr \u001b[38;5;241m=\u001b[39m ((\u001b[43mcol\u001b[49m\u001b[43m(\u001b[49m\u001b[38;5;124;43m\"\u001b[39;49m\u001b[38;5;124;43midade\u001b[39;49m\u001b[38;5;124;43m\"\u001b[39;49m\u001b[43m)\u001b[49m\u001b[43m \u001b[49m\u001b[38;5;241;43m/\u001b[39;49m\u001b[38;5;241;43m/\u001b[39;49m\u001b[43m \u001b[49m\u001b[43mage_step\u001b[49m) \u001b[38;5;241m*\u001b[39m age_step)\u001b[38;5;241m.\u001b[39malias(\u001b[38;5;124m\"\u001b[39m\u001b[38;5;124mfaixa_de_idade\u001b[39m\u001b[38;5;124m\"\u001b[39m)\n\u001b[1;32m     14\u001b[0m \u001b[38;5;66;03m# Agrupe os dados pela faixa de idade\u001b[39;00m\n\u001b[1;32m     15\u001b[0m df_customer_silver \u001b[38;5;241m=\u001b[39m df\u001b[38;5;241m.\u001b[39mgroupBy(age_group_expr)\u001b[38;5;241m.\u001b[39mcount()\n",
      "\u001b[0;31mTypeError\u001b[0m: unsupported operand type(s) for //: 'Column' and 'int'"
     ]
    }
   ],
   "source": [
    "from pyspark.sql import SparkSession\n",
    "from pyspark.sql.functions import col, to_date, date_format, when, lit, broadcast, monotonically_increasing_id\n",
    "\n",
    "spark = SparkSession.builder.getOrCreate()\n",
    "df_customer_silver = spark.read.format(\"delta\").load('s3a://datalake-poslabs/silver/customer')\n",
    "# Defina os limites das faixas de idade (de 10 em 10)\n",
    "age_lower_bound = 10\n",
    "age_upper_bound = 100\n",
    "age_step = 10\n",
    "\n",
    "# Crie uma expressão para calcular a faixa de idade correspondente\n",
    "age_group_expr = ((col(\"idade\") // age_step) * age_step).alias(\"faixa_de_idade\")\n",
    "\n",
    "# Agrupe os dados pela faixa de idade\n",
    "df_customer_silver = df.groupBy(age_group_expr).count()\n",
    "\n",
    "# Mostre o DataFrame resultante\n",
    "df_customer_silver.show()"
   ]
  },
  {
   "cell_type": "code",
   "execution_count": null,
   "id": "2fa23245-9dea-47de-9906-fd8924c82cd3",
   "metadata": {},
   "outputs": [],
   "source": []
  }
 ],
 "metadata": {
  "kernelspec": {
   "display_name": "Python 3 (ipykernel)",
   "language": "python",
   "name": "python3"
  },
  "language_info": {
   "codemirror_mode": {
    "name": "ipython",
    "version": 3
   },
   "file_extension": ".py",
   "mimetype": "text/x-python",
   "name": "python",
   "nbconvert_exporter": "python",
   "pygments_lexer": "ipython3",
   "version": "3.10.6"
  }
 },
 "nbformat": 4,
 "nbformat_minor": 5
}
